{
 "cells": [
  {
   "cell_type": "code",
   "execution_count": 2,
   "metadata": {},
   "outputs": [],
   "source": [
    "#singly Linked List\n",
    "\n",
    "class SinglyNode:\n",
    "    def __init__(self, val, next=None):\n",
    "        self.val = val\n",
    "        self.next = next\n",
    "\n",
    "    def __str__(self):\n",
    "        return str(self.val)\n"
   ]
  },
  {
   "cell_type": "code",
   "execution_count": 3,
   "metadata": {},
   "outputs": [],
   "source": [
    "\n",
    "A = SinglyNode(1)\n",
    "B = SinglyNode(2)\n",
    "C = SinglyNode(3)\n",
    "\n",
    "\n",
    "A.next = B\n",
    "B.next = C\n"
   ]
  },
  {
   "cell_type": "code",
   "execution_count": 4,
   "metadata": {},
   "outputs": [
    {
     "name": "stdout",
     "output_type": "stream",
     "text": [
      "1 -> 2 -> 3\n"
     ]
    }
   ],
   "source": [
    "def display(head):\n",
    "    current = head\n",
    "    elements = []\n",
    "    while current is not None:\n",
    "        elements.append(str(current.val))\n",
    "        current = current.next\n",
    "    print(\" -> \".join(elements))\n",
    "\n",
    "display(A)\n",
    "        "
   ]
  },
  {
   "cell_type": "code",
   "execution_count": 6,
   "metadata": {},
   "outputs": [
    {
     "data": {
      "text/plain": [
       "True"
      ]
     },
     "execution_count": 6,
     "metadata": {},
     "output_type": "execute_result"
    }
   ],
   "source": [
    "#Search for a node -O(n)\n",
    "\n",
    "def search(head,target):\n",
    "    current = head\n",
    "    while current:\n",
    "        if current.val == target:\n",
    "            return True\n",
    "        current = current.next\n",
    "    return False\n",
    "\n",
    "search(A, 3)"
   ]
  },
  {
   "cell_type": "code",
   "execution_count": 15,
   "metadata": {},
   "outputs": [],
   "source": [
    "#Doubly Linked Lists\n",
    "\n",
    "class DoublyNode:\n",
    "    def __init__(self,val,next=None,prev=None):\n",
    "        self.val=val\n",
    "        self.next=next\n",
    "        self.prev=prev\n",
    "    \n",
    "    def __str__(self):\n",
    "        return str(self.val)"
   ]
  },
  {
   "cell_type": "code",
   "execution_count": 38,
   "metadata": {},
   "outputs": [
    {
     "name": "stdout",
     "output_type": "stream",
     "text": [
      "1\n"
     ]
    }
   ],
   "source": [
    "head = tail = DoublyNode(1)\n",
    "print(tail)"
   ]
  },
  {
   "cell_type": "code",
   "execution_count": 39,
   "metadata": {},
   "outputs": [
    {
     "name": "stdout",
     "output_type": "stream",
     "text": [
      "1\n"
     ]
    }
   ],
   "source": [
    "def display(head):\n",
    "    curr = head\n",
    "    element = []\n",
    "\n",
    "    while curr:\n",
    "        element.append(str(curr.val))\n",
    "        curr=curr.next\n",
    "    \n",
    "    print(\" <-> \".join(element))\n",
    "\n",
    "display(head)"
   ]
  },
  {
   "cell_type": "code",
   "execution_count": 40,
   "metadata": {},
   "outputs": [
    {
     "name": "stdout",
     "output_type": "stream",
     "text": [
      "3 <-> 1\n"
     ]
    }
   ],
   "source": [
    "def insert_at_beginning(head,tail,val):\n",
    "    new_node = DoublyNode(val, next =head)\n",
    "    head.prev = new_node\n",
    "    return new_node, tail\n",
    "\n",
    "head,tail = insert_at_beginning(head,tail,3)\n",
    "display(head)"
   ]
  },
  {
   "cell_type": "code",
   "execution_count": 41,
   "metadata": {},
   "outputs": [
    {
     "name": "stdout",
     "output_type": "stream",
     "text": [
      "3 <-> 1 <-> 7\n"
     ]
    }
   ],
   "source": [
    "def insert_at_end(head,tail,val):\n",
    "    new_node = DoublyNode(val, prev=tail)\n",
    "    tail.next = new_node\n",
    "    return head, new_node\n",
    "\n",
    "head,tail = insert_at_end(head,tail,7)\n",
    "display(head)"
   ]
  },
  {
   "cell_type": "code",
   "execution_count": null,
   "metadata": {},
   "outputs": [],
   "source": []
  }
 ],
 "metadata": {
  "kernelspec": {
   "display_name": "Python 3",
   "language": "python",
   "name": "python3"
  },
  "language_info": {
   "codemirror_mode": {
    "name": "ipython",
    "version": 3
   },
   "file_extension": ".py",
   "mimetype": "text/x-python",
   "name": "python",
   "nbconvert_exporter": "python",
   "pygments_lexer": "ipython3",
   "version": "3.11.9"
  }
 },
 "nbformat": 4,
 "nbformat_minor": 2
}
